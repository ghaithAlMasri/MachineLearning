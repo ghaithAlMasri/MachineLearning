{
 "cells": [
  {
   "cell_type": "code",
   "execution_count": 25,
   "metadata": {},
   "outputs": [
    {
     "name": "stdout",
     "output_type": "stream",
     "text": [
      "14 µs ± 863 ns per loop (mean ± std. dev. of 7 runs, 100,000 loops each)\n"
     ]
    }
   ],
   "source": [
    "#GHAITH ALMASRI'S SOLUTION\n",
    "#Question 1\n",
    "\n",
    "\"\"\"I will use the * operator to unpack the range for a list. then use the sort with the reverse property set to true.\n",
    "the 2 is the step of the range.\n",
    "As for the sum I will do your basic sum algorithm to go through the entirety of the list one by one and add it to a sum variable\n",
    "which is called coding_is_fun_sum.\"\"\"\n",
    "%timeit full_list = [*range(430989,432231,2)].sort(reverse=True)\n",
    "\n",
    "coding_is_fun_sum = 0\n",
    "for element in full_list:\n",
    "    coding_is_fun_sum+=element\n",
    "\n"
   ]
  },
  {
   "cell_type": "code",
   "execution_count": null,
   "metadata": {},
   "outputs": [],
   "source": []
  }
 ],
 "metadata": {
  "kernelspec": {
   "display_name": "Python 3.8.10 64-bit",
   "language": "python",
   "name": "python3"
  },
  "language_info": {
   "codemirror_mode": {
    "name": "ipython",
    "version": 3
   },
   "file_extension": ".py",
   "mimetype": "text/x-python",
   "name": "python",
   "nbconvert_exporter": "python",
   "pygments_lexer": "ipython3",
   "version": "3.8.10"
  },
  "orig_nbformat": 4,
  "vscode": {
   "interpreter": {
    "hash": "aee8b7b246df8f9039afb4144a1f6fd8d2ca17a180786b69acc140d282b71a49"
   }
  }
 },
 "nbformat": 4,
 "nbformat_minor": 2
}
