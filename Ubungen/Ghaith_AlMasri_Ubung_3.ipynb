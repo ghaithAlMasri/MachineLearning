{
 "cells": [
  {
   "cell_type": "code",
   "execution_count": 7,
   "metadata": {},
   "outputs": [],
   "source": [
    "import numpy as np"
   ]
  },
  {
   "cell_type": "code",
   "execution_count": 68,
   "metadata": {},
   "outputs": [
    {
     "data": {
      "text/plain": [
       "array([-2,  1, -1,  0, -1, -1, -2, -3, -5, -8])"
      ]
     },
     "execution_count": 68,
     "metadata": {},
     "output_type": "execute_result"
    }
   ],
   "source": [
    "\"\"\"\n",
    "Question #1\n",
    "I want an excuse to use recursion so I did. :)\n",
    "\n",
    "\"\"\"\n",
    "\n",
    "class lets_code_fib:\n",
    "    def __init__(self, fib_0=0, fib_1=1):\n",
    "        self.my_arr = np.array([fib_0, fib_1])\n",
    "\n",
    "    def fib(self, n = 10):\n",
    "        number = n - 2\n",
    "        if number == 0:\n",
    "            return self.my_arr\n",
    "        total = self.my_arr[-1] + self.my_arr[-2]\n",
    "        self.my_arr = np.append(self.my_arr, [total])\n",
    "        return self.fib(number + 1)\n",
    "\n",
    "the_array = lets_code_fib(fib_0=-2)\n",
    "\n",
    "the_array.fib()\n"
   ]
  },
  {
   "cell_type": "code",
   "execution_count": 70,
   "metadata": {},
   "outputs": [
    {
     "name": "stdout",
     "output_type": "stream",
     "text": [
      "(5, 5, 5)\n",
      "[ 0  4  0 16]\n"
     ]
    }
   ],
   "source": [
    "\"\"\"\n",
    "\n",
    "np.mgrid()\n",
    "np.mgrid is a function that creates a dense multidimensional \"meshgrid\" from specified ranges. \n",
    "It returns an N-dimensional grid of points that can be used to evaluate functions of N variables.\n",
    "\n",
    "\"\"\"\n",
    "\n",
    "\n",
    "\n",
    "\n",
    "# create a 3D meshgrid from ranges [-1, 1], [-2, 2], and [-3, 3]\n",
    "x, y, z = np.mgrid[-1:1:5j, -2:2:5j, -3:3:5j]\n",
    "\n",
    "# evaluate a function f(x, y, z) = x^2 + y^2 + z^2\n",
    "f = x**2 + y**2 + z**2\n",
    "\n",
    "# print the shape of f\n",
    "print(f.shape)\n",
    "\n",
    "\n",
    "\n",
    "\"\"\"\n",
    "\n",
    "np.vectorize()\n",
    "np.vectorize is a function that can be used to \"vectorize\" a scalar function, \n",
    "so that it can be applied element-wise to arrays of any shape.\n",
    "\n",
    "\"\"\"\n",
    "\n",
    "# define a scalar function\n",
    "def my_func(x):\n",
    "    if x < 0:\n",
    "        return 0\n",
    "    else:\n",
    "        return x**2\n",
    "\n",
    "# vectorize the function\n",
    "vfunc = np.vectorize(my_func)\n",
    "\n",
    "# apply the vectorized function to an array\n",
    "a = np.array([-1, 2, -3, 4])\n",
    "b = vfunc(a)\n",
    "\n",
    "# print the result\n",
    "print(b)"
   ]
  },
  {
   "cell_type": "code",
   "execution_count": 99,
   "metadata": {},
   "outputs": [
    {
     "name": "stdout",
     "output_type": "stream",
     "text": [
      "2002\n"
     ]
    }
   ],
   "source": [
    "class nat_nums:\n",
    "    def __init__(self, number = 1000001):\n",
    "        self.total = 0\n",
    "        for i in range(number):\n",
    "            my_number = sum(list(eval(k) for k in str(i)))\n",
    "            if my_number == 9:\n",
    "                self.total+=1\n",
    "        print(self.total)\n",
    "\n",
    "calling_my_class_here = nat_nums()"
   ]
  },
  {
   "cell_type": "code",
   "execution_count": 106,
   "metadata": {},
   "outputs": [
    {
     "name": "stdout",
     "output_type": "stream",
     "text": [
      "[0, 0, 0, 0, 0, 0, 0, 0, 0, 0]\n",
      "[1, 2, 3, 5, 8, 13, 21, 34, 55, 89, 144, 233, 377, 610, 987, 1597, 2584, 4181, 6765, 10946]\n",
      "[0, 1, 1, 2, 3]\n"
     ]
    }
   ],
   "source": [
    "def my_advanced_fib(anzahl=10, **kwargs):\n",
    "    fib = [0] * anzahl\n",
    "    for i in range(anzahl):\n",
    "        fib[i] = kwargs.get(f'fib_{i}', 0)\n",
    "    for i in range(len(kwargs), anzahl):\n",
    "        fib[i] = sum(fib[i - len(kwargs):i])\n",
    "    return fib\n",
    "\n",
    "\n",
    "\n",
    "print(my_advanced_fib())\n",
    "\n",
    "\n",
    "print(my_advanced_fib(20, fib_0=1, fib_1=2))\n",
    "\n",
    "\n",
    "print(my_advanced_fib(5, fib_0=0, fib_1=1, fib_2=1, fib_3=2, fib_4=3))\n"
   ]
  },
  {
   "cell_type": "code",
   "execution_count": null,
   "metadata": {},
   "outputs": [],
   "source": []
  }
 ],
 "metadata": {
  "kernelspec": {
   "display_name": "Python 3.8.10 64-bit",
   "language": "python",
   "name": "python3"
  },
  "language_info": {
   "codemirror_mode": {
    "name": "ipython",
    "version": 3
   },
   "file_extension": ".py",
   "mimetype": "text/x-python",
   "name": "python",
   "nbconvert_exporter": "python",
   "pygments_lexer": "ipython3",
   "version": "3.8.10"
  },
  "orig_nbformat": 4,
  "vscode": {
   "interpreter": {
    "hash": "aee8b7b246df8f9039afb4144a1f6fd8d2ca17a180786b69acc140d282b71a49"
   }
  }
 },
 "nbformat": 4,
 "nbformat_minor": 2
}
