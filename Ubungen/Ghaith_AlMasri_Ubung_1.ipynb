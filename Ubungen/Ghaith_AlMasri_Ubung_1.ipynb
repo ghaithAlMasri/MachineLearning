{
 "cells": [
  {
   "cell_type": "code",
   "execution_count": 25,
   "metadata": {},
   "outputs": [
    {
     "name": "stdout",
     "output_type": "stream",
     "text": [
      "14 µs ± 863 ns per loop (mean ± std. dev. of 7 runs, 100,000 loops each)\n"
     ]
    }
   ],
   "source": [
    "#GHAITH ALMASRI'S SOLUTION\n",
    "#Question 1\n",
    "\n",
    "\"\"\"\n",
    "~~~~~~~~~~~~~~~~~~~~~~~~~~~~~~~~~~~~~~~~~~~~~~~~~~~~~~~~~~~~~~~~~~~~~~~~~~~~~~~~~~~~~~~~~~~~~~~~~~~~~~~~~~~~~~~~~~~~~~~~~~~~~~~~~~~~~~~\n",
    "I will use the * operator to unpack the range for a list. then use the sort with the reverse property set to true.\n",
    "the 2 is the step of the range.\n",
    "As for the sum I will do your basic sum algorithm to go through the entirety of the list one by one and add it to a sum variable\n",
    "which is called coding_is_fun_sum.\n",
    "~~~~~~~~~~~~~~~~~~~~~~~~~~~~~~~~~~~~~~~~~~~~~~~~~~~~~~~~~~~~~~~~~~~~~~~~~~~~~~~~~~~~~~~~~~~~~~~~~~~~~~~~~~~~~~~~~~~~~~~~~~~~~~~~~~~~~~~\n",
    "\"\"\"\n",
    "%timeit full_list = [*range(430989,432231,2)].sort(reverse=True)\n",
    "\n",
    "coding_is_fun_sum = 0\n",
    "for element in full_list:\n",
    "    coding_is_fun_sum+=element\n",
    "\n"
   ]
  },
  {
   "cell_type": "code",
   "execution_count": 11,
   "metadata": {},
   "outputs": [
    {
     "name": "stdout",
     "output_type": "stream",
     "text": [
      "an integer is required (got type str)\n"
     ]
    },
    {
     "data": {
      "text/plain": [
       "[1, 'potato', True, {'Fun Dict': 'Not Very Fun'}]"
      ]
     },
     "execution_count": 11,
     "metadata": {},
     "output_type": "execute_result"
    }
   ],
   "source": [
    "#GHAITH ALMASRI'S SOLUTION\n",
    "#Question 2\n",
    "\"\"\"\n",
    "~~~~~~~~~~~~~~~~~~~~~~~~~~~~~~~~~~~~~~~~~~~~~~~~~~~~~~~~~~~~~~~~~~~~~~~~~~~~~~~~~~~~~~~~~~~~~~~~~~~~~~~~~~~~~~~~~~~~~~~~~~~~~~~~~~~~~~~\n",
    "An array is a stricter version of a list. Meaning it can only have one type of data in it, typically assigned using dtype=Data_Type\n",
    "an array is closer to what we see in math when it comes to matrices, arrays have a strict datatype that is passed through the \n",
    "class array, lists on the other hand are just a series of either homogenous\n",
    "or numerous data types laid end to end one after the other. It is also important to mention that arrays typically require less mem-\n",
    "ory and are generally much faster when it comes to arithmetic operations.\n",
    "~~~~~~~~~~~~~~~~~~~~~~~~~~~~~~~~~~~~~~~~~~~~~~~~~~~~~~~~~~~~~~~~~~~~~~~~~~~~~~~~~~~~~~~~~~~~~~~~~~~~~~~~~~~~~~~~~~~~~~~~~~~~~~~~~~~~~~~\n",
    "\"\"\"\n",
    "from array import array\n",
    "\n",
    "\n",
    "\n",
    "my_arr = array('I',[*range(1,100)])\n",
    "try:\n",
    "    my_arr.append('c') # TypeError: an integer is required (got type str)\n",
    "except Exception as e:\n",
    "    print(str(e))\n",
    "my_arr.append(101) #Appends 101 to the arr\n",
    "\n",
    "\n",
    "my_list = [1, 'potato', True]\n",
    "my_list.append({'Fun Dict':'Not Very Fun'})\n",
    "my_list"
   ]
  },
  {
   "cell_type": "code",
   "execution_count": 90,
   "metadata": {},
   "outputs": [
    {
     "name": "stdout",
     "output_type": "stream",
     "text": [
      "S kommt 11 mal vor\n",
      "E kommt 9 mal vor\n",
      "H kommt 8 mal vor\n",
      "I kommt 7 mal vor\n",
      "N kommt 6 mal vor\n",
      "T kommt 5 mal vor\n",
      "A kommt 4 mal vor\n",
      "C kommt 4 mal vor\n",
      "U kommt 3 mal vor\n",
      "R kommt 3 mal vor\n",
      "M kommt 2 mal vor\n",
      "G kommt 2 mal vor\n",
      "D kommt 2 mal vor\n",
      "K kommt 1 mal vor\n",
      "P kommt 1 mal vor\n",
      "F kommt 1 mal vor\n",
      "~~~~~~~~~~~~~~~~~~~~~~~~~~~~~~~~~~~~~~~~~~~~~~\n",
      "s kommt 10 mal vor\n",
      "e kommt 9 mal vor\n",
      "i kommt 7 mal vor\n",
      "h kommt 7 mal vor\n",
      "n kommt 5 mal vor\n",
      "t kommt 5 mal vor\n",
      "a kommt 4 mal vor\n",
      "c kommt 4 mal vor\n",
      "u kommt 3 mal vor\n",
      "r kommt 3 mal vor\n",
      "M kommt 1 mal vor\n",
      "N kommt 1 mal vor\n",
      "m kommt 1 mal vor\n",
      "G kommt 1 mal vor\n",
      "d kommt 1 mal vor\n",
      "k kommt 1 mal vor\n",
      "g kommt 1 mal vor\n",
      "D kommt 1 mal vor\n",
      "p kommt 1 mal vor\n",
      "H kommt 1 mal vor\n",
      "f kommt 1 mal vor\n",
      "S kommt 1 mal vor\n"
     ]
    }
   ],
   "source": [
    "# GHAITH ALMASRI'S SOLUTION\n",
    "# Question 3\n",
    "\n",
    "class counting:\n",
    "    def __init__(self, sentence):\n",
    "        self.sentence = sentence\n",
    "        self.letter_count = []\n",
    "        self.letter_count2 = []\n",
    "        self.letters = []\n",
    "        self.letters2 = []\n",
    "        self.letter_count_dict = {}\n",
    "        self.letter_count_dict2 = {}\n",
    "        self.letter_count_sorted_dict = {}\n",
    "        self.letter_count_sorted_dict2 = {}\n",
    "\n",
    "    def get_alpha_counts_not_case_sensitive(self):\n",
    "        if \"ß\" in self.sentence:\n",
    "            self.sentence = self.sentence.replace(\"ß\",'ss')\n",
    "        for i in range(len(self.sentence)):\n",
    "            self.upper_sentence = self.sentence.upper()\n",
    "            if (self.upper_sentence[i] not in self.letters) and (self.upper_sentence[i].isalpha()):\n",
    "                self.letter_count.append(self.upper_sentence.count(self.upper_sentence[i]))\n",
    "                self.letters.append(self.upper_sentence[i])\n",
    "        self.letter_count_dict = dict(zip(self.letters,self.letter_count))\n",
    "        self.letter_count_sorted_dict = sorted(self.letter_count_dict.items(), key = lambda x: x[1], reverse= True)\n",
    "        for i in range(len(self.letter_count_sorted_dict)):\n",
    "            print(f'{self.letter_count_sorted_dict[i][0]} kommt {self.letter_count_sorted_dict[i][1]} mal vor')\n",
    "        \n",
    "        \n",
    "    def get_alpha_counts_case_sensitive(self):\n",
    "        if \"ß\" in self.sentence:\n",
    "            self.sentence = self.sentence.replace(\"ß\",'ss')\n",
    "        for i in range(len(self.sentence)):\n",
    "            if (self.sentence[i] not in self.letters2) and (self.sentence[i].isalpha()):\n",
    "                self.letter_count2.append(self.sentence.count(self.sentence[i]))\n",
    "                self.letters2.append(self.sentence[i])\n",
    "        self.letter_count_dict2 = dict(zip(self.letters2,self.letter_count2))\n",
    "        self.letter_count_sorted_dict2 = sorted(self.letter_count_dict2.items(), key = lambda x: x[1], reverse= True)\n",
    "        for i in range(len(self.letter_count_sorted_dict2)):\n",
    "            print(f'{self.letter_count_sorted_dict2[i][0]} kommt {self.letter_count_sorted_dict2[i][1]} mal vor')\n",
    "\n",
    "\n",
    "my_sentence = counting(\"Mein Name ist Ghaith, und ich kan sehr gut Deutshc sprechen! Hier ist ein schafess S ß\")\n",
    "my_sentence.get_alpha_counts_not_case_sensitive()\n",
    "print('~~~~~~~~~~~~~~~~~~~~~~~~~~~~~~~~~~~~~~~~~~~~~~')\n",
    "my_sentence.get_alpha_counts_case_sensitive()\n"
   ]
  },
  {
   "cell_type": "code",
   "execution_count": 91,
   "metadata": {},
   "outputs": [
    {
     "name": "stdout",
     "output_type": "stream",
     "text": [
      "Willkommen zum Vokabeltrainer!\n",
      "Es werden nun zufällig Vokabeln abgefragt.\n",
      "Richtig!\n",
      "Richtig!\n",
      "Das Quiz ist beendet.\n",
      "Du hast 2 von 2 Vokabeln richtig beantwortet.\n"
     ]
    }
   ],
   "source": [
    "import random\n",
    "\n",
    "vocabulary = {\n",
    "    \"Hund\": \"dog\",\n",
    "    \"Katze\": \"cat\",\n",
    "    \"Haus\": \"house\",\n",
    "    \"Auto\": \"car\",\n",
    "    \"Apfel\": \"apple\"\n",
    "}\n",
    "\n",
    "def run_quiz():\n",
    "    print(\"Willkommen zum Vokabeltrainer!\")\n",
    "    print(\"Es werden nun zufällig Vokabeln abgefragt.\")\n",
    "    correct = 0\n",
    "    total = 0\n",
    "    while True:\n",
    "        word, translation = random.choice(list(vocabulary.items()))\n",
    "        guess = input(\"Was bedeutet das Wort '{}' auf Deutsch? \".format(translation))\n",
    "        if guess.lower() == word.lower():\n",
    "            print(\"Richtig!\")\n",
    "            correct += 1\n",
    "        else:\n",
    "            print(\"Falsch. Richtig wäre '{}' gewesen.\".format(word))\n",
    "        total += 1\n",
    "        again = input(\"Noch eine Vokabel abfragen? (ja/nein) \")\n",
    "        if again.lower() != \"ja\":\n",
    "            break\n",
    "    print(\"Das Quiz ist beendet.\")\n",
    "    print(\"Du hast {} von {} Vokabeln richtig beantwortet.\".format(correct, total))\n",
    "\n",
    "run_quiz()"
   ]
  }
 ],
 "metadata": {
  "kernelspec": {
   "display_name": "Python 3.8.10 64-bit",
   "language": "python",
   "name": "python3"
  },
  "language_info": {
   "codemirror_mode": {
    "name": "ipython",
    "version": 3
   },
   "file_extension": ".py",
   "mimetype": "text/x-python",
   "name": "python",
   "nbconvert_exporter": "python",
   "pygments_lexer": "ipython3",
   "version": "3.8.10"
  },
  "orig_nbformat": 4,
  "vscode": {
   "interpreter": {
    "hash": "aee8b7b246df8f9039afb4144a1f6fd8d2ca17a180786b69acc140d282b71a49"
   }
  }
 },
 "nbformat": 4,
 "nbformat_minor": 2
}
