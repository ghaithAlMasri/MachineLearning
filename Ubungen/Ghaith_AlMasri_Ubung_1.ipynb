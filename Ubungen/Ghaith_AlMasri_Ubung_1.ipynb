{
 "cells": [
  {
   "cell_type": "code",
   "execution_count": 25,
   "metadata": {},
   "outputs": [
    {
     "name": "stdout",
     "output_type": "stream",
     "text": [
      "14 µs ± 863 ns per loop (mean ± std. dev. of 7 runs, 100,000 loops each)\n"
     ]
    }
   ],
   "source": [
    "#GHAITH ALMASRI'S SOLUTION\n",
    "#Question 1\n",
    "\n",
    "\"\"\"\n",
    "~~~~~~~~~~~~~~~~~~~~~~~~~~~~~~~~~~~~~~~~~~~~~~~~~~~~~~~~~~~~~~~~~~~~~~~~~~~~~~~~~~~~~~~~~~~~~~~~~~~~~~~~~~~~~~~~~~~~~~~~~~~~~~~~~~~~~~~\n",
    "I will use the * operator to unpack the range for a list. then use the sort with the reverse property set to true.\n",
    "the 2 is the step of the range.\n",
    "As for the sum I will do your basic sum algorithm to go through the entirety of the list one by one and add it to a sum variable\n",
    "which is called coding_is_fun_sum.\n",
    "~~~~~~~~~~~~~~~~~~~~~~~~~~~~~~~~~~~~~~~~~~~~~~~~~~~~~~~~~~~~~~~~~~~~~~~~~~~~~~~~~~~~~~~~~~~~~~~~~~~~~~~~~~~~~~~~~~~~~~~~~~~~~~~~~~~~~~~\n",
    "\"\"\"\n",
    "%timeit full_list = [*range(430989,432231,2)].sort(reverse=True)\n",
    "\n",
    "coding_is_fun_sum = 0\n",
    "for element in full_list:\n",
    "    coding_is_fun_sum+=element\n",
    "\n"
   ]
  },
  {
   "cell_type": "code",
   "execution_count": 11,
   "metadata": {},
   "outputs": [
    {
     "name": "stdout",
     "output_type": "stream",
     "text": [
      "an integer is required (got type str)\n"
     ]
    },
    {
     "data": {
      "text/plain": [
       "[1, 'potato', True, {'Fun Dict': 'Not Very Fun'}]"
      ]
     },
     "execution_count": 11,
     "metadata": {},
     "output_type": "execute_result"
    }
   ],
   "source": [
    "#GHAITH ALMASRI'S SOLUTION\n",
    "#Question 2\n",
    "\"\"\"\n",
    "~~~~~~~~~~~~~~~~~~~~~~~~~~~~~~~~~~~~~~~~~~~~~~~~~~~~~~~~~~~~~~~~~~~~~~~~~~~~~~~~~~~~~~~~~~~~~~~~~~~~~~~~~~~~~~~~~~~~~~~~~~~~~~~~~~~~~~~\n",
    "An array is a stricter version of a list. Meaning it can only have one type of data in it, typically assigned using dtype=Data_Type\n",
    "an array is closer to what we see in math when it comes to matrices, arrays have a strict datatype that is passed through the \n",
    "class array, lists on the other hand are just a series of either homogenous\n",
    "or numerous data types laid end to end one after the other. It is also important to mention that arrays typically require less mem-\n",
    "ory and are generally much faster when it comes to arithmetic operations.\n",
    "~~~~~~~~~~~~~~~~~~~~~~~~~~~~~~~~~~~~~~~~~~~~~~~~~~~~~~~~~~~~~~~~~~~~~~~~~~~~~~~~~~~~~~~~~~~~~~~~~~~~~~~~~~~~~~~~~~~~~~~~~~~~~~~~~~~~~~~\n",
    "\"\"\"\n",
    "from array import array\n",
    "\n",
    "\n",
    "\n",
    "my_arr = array('I',[*range(1,100)])\n",
    "try:\n",
    "    my_arr.append('c') # TypeError: an integer is required (got type str)\n",
    "except Exception as e:\n",
    "    print(str(e))\n",
    "my_arr.append(101) #Appends 101 to the arr\n",
    "\n",
    "\n",
    "my_list = [1, 'potato', True]\n",
    "my_list.append({'Fun Dict':'Not Very Fun'})\n",
    "my_list"
   ]
  },
  {
   "cell_type": "code",
   "execution_count": 59,
   "metadata": {},
   "outputs": [],
   "source": [
    "#GHAITH ALMASRI'S SOLUTION\n",
    "#Question 3\n",
    "\n",
    "class counting:\n",
    "    def __init__(self, sentence):\n",
    "        self.sentence = sentence\n",
    "        self.letter_count = []\n",
    "        self.letters = []\n",
    "        self.letter_count_dict = {}\n",
    "        self.letter_count_sorted_dict = {}\n",
    "    def get_alpha_counts_not_case_sensitive(self):\n",
    "        for i in range(len(self.sentence)):\n",
    "            self.upper_sentence = self.sentence.upper()\n",
    "            if (self.upper_sentence[i] not in self.letters) and (self.upper_sentence[i] != \" \"):\n",
    "                self.letter_count.append(self.upper_sentence.count(self.upper_sentence[i]))\n",
    "                self.letters.append(self.upper_sentence[i])\n",
    "        self.letter_count_dict = dict(zip(self.letters,self.letter_count))\n",
    "        self.letter_count_sorted_dict = sorted(self.letter_count_dict.items(), key = lambda x: x[1], reverse= True)\n",
    "        for i in range(len(self.letter_count_sorted_dict)):\n",
    "            print(f'{self.letter_count_sorted_dict[i][0]} kommt {self.letter_count_sorted_dict[i][1]} vor')\n",
    "        \n",
    "        \n",
    "    def get_alpha_counts_case_sensitive(self):\n",
    "        for i in range(len(self.sentence)):\n",
    "            print(i)\n",
    "\n",
    "\n",
    "my_sentence = counting(\"My name is Ghaith\")\n"
   ]
  },
  {
   "cell_type": "code",
   "execution_count": 60,
   "metadata": {},
   "outputs": [
    {
     "name": "stdout",
     "output_type": "stream",
     "text": [
      "('M', 2)\n",
      "('A', 2)\n",
      "('I', 2)\n",
      "('H', 2)\n",
      "('Y', 1)\n",
      "('N', 1)\n",
      "('E', 1)\n",
      "('S', 1)\n",
      "('G', 1)\n",
      "('T', 1)\n"
     ]
    }
   ],
   "source": [
    "my_sentence.get_alpha_counts_not_case_sensitive()"
   ]
  },
  {
   "cell_type": "code",
   "execution_count": null,
   "metadata": {},
   "outputs": [],
   "source": []
  }
 ],
 "metadata": {
  "kernelspec": {
   "display_name": "Python 3.8.10 64-bit",
   "language": "python",
   "name": "python3"
  },
  "language_info": {
   "codemirror_mode": {
    "name": "ipython",
    "version": 3
   },
   "file_extension": ".py",
   "mimetype": "text/x-python",
   "name": "python",
   "nbconvert_exporter": "python",
   "pygments_lexer": "ipython3",
   "version": "3.8.10"
  },
  "orig_nbformat": 4,
  "vscode": {
   "interpreter": {
    "hash": "aee8b7b246df8f9039afb4144a1f6fd8d2ca17a180786b69acc140d282b71a49"
   }
  }
 },
 "nbformat": 4,
 "nbformat_minor": 2
}
