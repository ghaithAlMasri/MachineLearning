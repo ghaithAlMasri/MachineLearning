{
 "cells": [
  {
   "cell_type": "code",
   "execution_count": 50,
   "metadata": {},
   "outputs": [],
   "source": [
    "import pandas as pd\n",
    "import numpy as np\n",
    "from sklearn.neural_network import MLPClassifier"
   ]
  },
  {
   "cell_type": "code",
   "execution_count": 51,
   "metadata": {},
   "outputs": [],
   "source": [
    "df = pd.read_csv('./btcdata.csv')\n",
    "df = df[df.Volume != 0]\n",
    "df['Local time'] = pd.to_datetime(df['Local time'], format=\"%d.%m.%Y %H:%M:%S.%f GMT%z\")\n",
    "df = df.set_index(df[\"Local time\"])\n",
    "df = df.dropna()\n",
    "df = df.drop(['Local time'], axis=1)\n",
    "res = np.where(df.Close > df.Open, 1 , 0)\n",
    "df = df.iloc[:-1]\n",
    "res = np.roll(res, -1)[:-1]\n",
    "train_index = int(0.7 * len(res))\n",
    "test_index = len(res) - train_index\n",
    "X_train, X_test = df[:train_index], df[train_index:]\n",
    "y_train, y_test = res[:train_index], res[train_index:]"
   ]
  },
  {
   "cell_type": "code",
   "execution_count": 91,
   "metadata": {},
   "outputs": [],
   "source": [
    "best_vals = {'layers': 0, 'accuracy': 0}\n",
    "for i in range(1000):\n",
    "    network = MLPClassifier(hidden_layer_sizes=(i+1,), activation='relu', random_state=1, max_iter=700, shuffle=False ).fit(X_train,y_train)\n",
    "    if network.score(X_test, y_test)>best_vals.get('accuracy'):\n",
    "        best_vals['layers'] = (i)+1\n",
    "        best_vals['accuracy'] = network.score(X_test, y_test)\n",
    "best_vals"
   ]
  },
  {
   "cell_type": "code",
   "execution_count": null,
   "metadata": {},
   "outputs": [],
   "source": [
    "knn_accuracy_scores = []\n"
   ]
  },
  {
   "cell_type": "code",
   "execution_count": null,
   "metadata": {},
   "outputs": [],
   "source": []
  }
 ],
 "metadata": {
  "kernelspec": {
   "display_name": "Python 3",
   "language": "python",
   "name": "python3"
  },
  "language_info": {
   "codemirror_mode": {
    "name": "ipython",
    "version": 3
   },
   "file_extension": ".py",
   "mimetype": "text/x-python",
   "name": "python",
   "nbconvert_exporter": "python",
   "pygments_lexer": "ipython3",
   "version": "3.8.10"
  },
  "orig_nbformat": 4
 },
 "nbformat": 4,
 "nbformat_minor": 2
}
