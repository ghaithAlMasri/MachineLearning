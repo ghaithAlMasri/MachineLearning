{
 "cells": [
  {
   "cell_type": "code",
   "execution_count": 2,
   "metadata": {},
   "outputs": [],
   "source": [
    "import matplotlib as plt\n",
    "import numpy as np"
   ]
  },
  {
   "cell_type": "code",
   "execution_count": 39,
   "metadata": {},
   "outputs": [
    {
     "data": {
      "text/plain": [
       "[[1, 1, 1],\n",
       " [1, 1, 2],\n",
       " [1, 1, 3],\n",
       " [1, 1, 4],\n",
       " [1, 1, 5],\n",
       " [1, 1, 6],\n",
       " [1, 2, 2],\n",
       " [1, 2, 3],\n",
       " [1, 2, 4],\n",
       " [1, 2, 5],\n",
       " [1, 2, 6],\n",
       " [1, 3, 3],\n",
       " [1, 3, 4],\n",
       " [1, 3, 5],\n",
       " [1, 3, 6],\n",
       " [1, 4, 4],\n",
       " [1, 4, 5],\n",
       " [1, 4, 6],\n",
       " [1, 5, 5],\n",
       " [1, 5, 6],\n",
       " [1, 6, 6],\n",
       " [2, 2, 2],\n",
       " [2, 2, 3],\n",
       " [2, 2, 4],\n",
       " [2, 2, 5],\n",
       " [2, 2, 6],\n",
       " [2, 3, 3],\n",
       " [2, 3, 4],\n",
       " [2, 3, 5],\n",
       " [2, 3, 6],\n",
       " [2, 4, 4],\n",
       " [2, 4, 5],\n",
       " [2, 4, 6],\n",
       " [2, 5, 5],\n",
       " [2, 5, 6],\n",
       " [2, 6, 6],\n",
       " [3, 3, 3],\n",
       " [3, 3, 4],\n",
       " [3, 3, 5],\n",
       " [3, 3, 6],\n",
       " [3, 4, 4],\n",
       " [3, 4, 5],\n",
       " [3, 4, 6],\n",
       " [3, 5, 5],\n",
       " [3, 5, 6],\n",
       " [3, 6, 6],\n",
       " [4, 4, 4],\n",
       " [4, 4, 5],\n",
       " [4, 4, 6],\n",
       " [4, 5, 5],\n",
       " [4, 5, 6],\n",
       " [4, 6, 6],\n",
       " [5, 5, 5],\n",
       " [5, 5, 6],\n",
       " [5, 6, 6],\n",
       " [6, 6, 6]]"
      ]
     },
     "execution_count": 39,
     "metadata": {},
     "output_type": "execute_result"
    }
   ],
   "source": [
    "rolls = [[a,b,c] for a in range(1,7) for b in range(a,7) for c in range(b,7) if not (c==a+b and c+a+b>12)]\n",
    "rolls"
   ]
  },
  {
   "cell_type": "code",
   "execution_count": null,
   "metadata": {},
   "outputs": [],
   "source": []
  },
  {
   "cell_type": "code",
   "execution_count": null,
   "metadata": {},
   "outputs": [],
   "source": []
  },
  {
   "cell_type": "code",
   "execution_count": null,
   "metadata": {},
   "outputs": [],
   "source": []
  }
 ],
 "metadata": {
  "kernelspec": {
   "display_name": "Python 3.8.10 64-bit",
   "language": "python",
   "name": "python3"
  },
  "language_info": {
   "codemirror_mode": {
    "name": "ipython",
    "version": 3
   },
   "file_extension": ".py",
   "mimetype": "text/x-python",
   "name": "python",
   "nbconvert_exporter": "python",
   "pygments_lexer": "ipython3",
   "version": "3.8.10"
  },
  "orig_nbformat": 4,
  "vscode": {
   "interpreter": {
    "hash": "aee8b7b246df8f9039afb4144a1f6fd8d2ca17a180786b69acc140d282b71a49"
   }
  }
 },
 "nbformat": 4,
 "nbformat_minor": 2
}
