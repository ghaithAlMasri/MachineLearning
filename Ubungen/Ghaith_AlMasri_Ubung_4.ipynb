{
 "cells": [
  {
   "cell_type": "code",
   "execution_count": 69,
   "metadata": {},
   "outputs": [
    {
     "data": {
      "image/png": "[encoded data removed]",
      "text/plain": [
       "<Figure size 640x480 with 1 Axes>"
      ]
     },
     "metadata": {},
     "output_type": "display_data"
    }
   ],
   "source": [
    "import matplotlib.pyplot as plt\n",
    "import numpy as np\n",
    "\n",
    "rolls = [sum([a,b,c]) for a in range(1,7) for b in range(a,7) for c in range(b,7) if not (c==a+b and c+a+b>12)]\n",
    "\n",
    "\n",
    "\n",
    "plt.hist(rolls, bins=range(0, 25), edgecolor='black')\n",
    "plt.xlabel('Sum of Dice Rolls')\n",
    "plt.ylabel('Frequency')\n",
    "plt.title('Distribution of Dice Triple Rolls')\n",
    "plt.show()\n",
    "\n",
    "\n"
   ]
  },
  {
   "cell_type": "code",
   "execution_count": 120,
   "metadata": {},
   "outputs": [
    {
     "name": "stdout",
     "output_type": "stream",
     "text": [
      "0.5177815 0.927157\n"
     ]
    }
   ],
   "source": [
    "import random\n",
    "\n",
    "class question_two:\n",
    "    def __init__(self):\n",
    "        pass\n",
    "\n",
    "    def roll(self):\n",
    "        return random.randint(1, 6)\n",
    "\n",
    "    def simulate_rolls_a(self, number_of_rolls : int):\n",
    "        for i in range(number_of_rolls):\n",
    "            if self.roll() == 6:\n",
    "                return True\n",
    "        return False\n",
    "\n",
    "    def simulate_rolls_b(self, number_of_rolls : int):\n",
    "        total = 0\n",
    "        for i in range(number_of_rolls):\n",
    "            if self.roll() == 6:\n",
    "                total +=1\n",
    "                if total == 2:\n",
    "                    return True\n",
    "        return False\n",
    "    \n",
    "    def calculate_probability_a(self, number_of_trials : int, number_of_rolls:int):\n",
    "        total = 0\n",
    "        for _ in range(number_of_trials):\n",
    "            if self.simulate_rolls_a(number_of_rolls):\n",
    "                total+=1\n",
    "        return total/number_of_trials\n",
    "\n",
    "    def calculate_probability_b(self, number_of_trials : int, number_of_rolls:int):\n",
    "        total = 0\n",
    "        for _ in range(number_of_trials):\n",
    "            if self.simulate_rolls_b(number_of_rolls):\n",
    "                total+=1\n",
    "        return total/number_of_trials\n",
    "            \n",
    "\n",
    "cool_class = question_two()\n",
    "question_two_a = cool_class.calculate_probability_a(10000000, 4)\n",
    "question_two_b = cool_class.calculate_probability_b(10000000, 24)\n",
    "print(question_two_a,question_two_b)\n"
   ]
  },
  {
   "cell_type": "code",
   "execution_count": 121,
   "metadata": {},
   "outputs": [],
   "source": [
    "import random\n",
    "\n",
    "def generate_lottery_numbers():\n",
    "    return random.sample(range(1, 50), 6)\n",
    "\n",
    "def run_lottery_simulation(target_numbers):\n",
    "    num_drawings = 0\n",
    "    drawn_numbers = set()\n",
    "\n",
    "    while True:\n",
    "        num_drawings += 1\n",
    "        lottery_numbers = generate_lottery_numbers()\n",
    "\n",
    "        if tuple(lottery_numbers) in drawn_numbers:\n",
    "            break\n",
    "\n",
    "        drawn_numbers.add(tuple(lottery_numbers))\n",
    "\n",
    "    return num_drawings\n",
    "\n",
    "def average_drawings_needed(target_numbers, num_simulations):\n",
    "    total_drawings = 0\n",
    "\n",
    "    for _ in range(num_simulations):\n",
    "        num_drawings = run_lottery_simulation(target_numbers)\n",
    "        total_drawings += num_drawings\n",
    "\n",
    "    average_drawings = total_drawings / num_simulations\n",
    "    return average_drawings\n",
    "\n",
    "target_numbers = [1, 2, 3, 4, 5, 6]\n",
    "num_simulations = 10000\n",
    "\n",
    "average_drawings = average_drawings_needed(target_numbers, num_simulations)\n",
    "print(\"Durchschnittliche Anzahl der Ziehungen:\", average_drawings)\n"
   ]
  },
  {
   "cell_type": "code",
   "execution_count": null,
   "metadata": {},
   "outputs": [],
   "source": []
  }
 ],
 "metadata": {
  "kernelspec": {
   "display_name": "Python 3.8.10 64-bit",
   "language": "python",
   "name": "python3"
  },
  "language_info": {
   "codemirror_mode": {
    "name": "ipython",
    "version": 3
   },
   "file_extension": ".py",
   "mimetype": "text/x-python",
   "name": "python",
   "nbconvert_exporter": "python",
   "pygments_lexer": "ipython3",
   "version": "3.8.10"
  },
  "orig_nbformat": 4,
  "vscode": {
   "interpreter": {
    "hash": "aee8b7b246df8f9039afb4144a1f6fd8d2ca17a180786b69acc140d282b71a49"
   }
  }
 },
 "nbformat": 4,
 "nbformat_minor": 2
}
