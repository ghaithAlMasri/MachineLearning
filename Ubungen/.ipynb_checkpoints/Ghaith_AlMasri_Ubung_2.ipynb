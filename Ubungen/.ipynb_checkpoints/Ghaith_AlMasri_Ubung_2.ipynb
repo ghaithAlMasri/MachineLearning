{
 "cells": [
  {
   "cell_type": "code",
   "execution_count": 1,
   "metadata": {},
   "outputs": [],
   "source": [
    "import numpy"
   ]
  },
  {
   "cell_type": "code",
   "execution_count": 52,
   "metadata": {},
   "outputs": [],
   "source": [
    "class decode_encode:\n",
    "    def __init__(self, password, sentence):\n",
    "        self.the_letters = \"A B C D E F G H I J K L M N O P Q R S T U V W X Y Z\".split()\n",
    "        self.the_values = [eval(\n",
    "            i) for i in \"1 2 3 4 5 6 7 8 9 10 11 12 13 14 15 16 17 18 19 20 21 22 23 24 25 26\".split()]\n",
    "        self.password = list(password)\n",
    "        self.sentence = list(sentence)\n",
    "        self.letter_val_dict = dict(zip(self.the_letters, self.the_values))\n",
    "        self.decoded_sentence = \"\"\n",
    "        self.encoded_sentence = \"\"\n",
    "\n",
    "    def question_one(self):\n",
    "        password_counter = 0\n",
    "        for letter in self.sentence:\n",
    "            if not letter.isalpha():\n",
    "                self.decoded_sentence += letter\n",
    "                continue\n",
    "            if password_counter > len(self.password) - 1:\n",
    "                password_counter = 0\n",
    "            sentence_value = self.letter_val_dict.get(letter)\n",
    "            password_value = self.letter_val_dict.get(\n",
    "                self.password[password_counter])\n",
    "            total_value = sentence_value + password_value\n",
    "            if total_value > 26:\n",
    "                total_value = total_value - 26\n",
    "            self.decoded_sentence += self.the_letters[total_value - 1]\n",
    "            password_counter += 1\n",
    "        print(self.decoded_sentence)\n",
    "        return  self.decoded_sentence\n",
    "\n",
    "    def question_two(self, mysterious_text):\n",
    "        password_counter = 0\n",
    "        mysterious_text = list(mysterious_text)\n",
    "        for letter in mysterious_text:\n",
    "            if not letter.isalpha():\n",
    "                self.encoded_sentence += letter\n",
    "                continue\n",
    "            if password_counter > len(self.password) - 1:\n",
    "                password_counter = 0\n",
    "            sentence_value = self.letter_val_dict.get(letter)\n",
    "            password_value = self.letter_val_dict.get(self.password[password_counter])\n",
    "            total_value = sentence_value - password_value\n",
    "            if total_value < 0:\n",
    "                total_value = total_value + 26\n",
    "            self.encoded_sentence += self.the_letters[total_value - 1]\n",
    "            password_counter+=1\n",
    "        print(self.encoded_sentence)\n",
    "        return self.encoded_sentence\n",
    "\n",
    "    def question_three():\n",
    "        pass\n",
    "\n",
    "    # def question_four():\n",
    "    #     pass\n",
    "\n",
    "\n",
    "\n",
    "\n",
    "\n",
    "\n",
    "\n"
   ]
  },
  {
   "cell_type": "code",
   "execution_count": 53,
   "metadata": {},
   "outputs": [
    {
     "name": "stdout",
     "output_type": "stream",
     "text": [
      "DIES IST EIN KLARTEXT\n"
     ]
    }
   ],
   "source": [
    "decode_encode('SONNE', \"DIES IST EIN KLARTEXT\").question_two(\"WXSG NLI SWS DAOFYXMH\")"
   ]
  },
  {
   "cell_type": "code",
   "execution_count": null,
   "metadata": {},
   "outputs": [],
   "source": []
  },
  {
   "cell_type": "code",
   "execution_count": null,
   "metadata": {},
   "outputs": [],
   "source": []
  }
 ],
 "metadata": {
  "kernelspec": {
   "display_name": "Python 3.8.10 64-bit",
   "language": "python",
   "name": "python3"
  },
  "language_info": {
   "codemirror_mode": {
    "name": "ipython",
    "version": 3
   },
   "file_extension": ".py",
   "mimetype": "text/x-python",
   "name": "python",
   "nbconvert_exporter": "python",
   "pygments_lexer": "ipython3",
   "version": "3.8.10"
  },
  "orig_nbformat": 4,
  "vscode": {
   "interpreter": {
    "hash": "aee8b7b246df8f9039afb4144a1f6fd8d2ca17a180786b69acc140d282b71a49"
   }
  }
 },
 "nbformat": 4,
 "nbformat_minor": 2
}
