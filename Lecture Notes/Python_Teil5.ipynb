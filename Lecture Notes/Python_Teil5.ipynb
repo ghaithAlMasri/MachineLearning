{
 "cells": [
  {
   "cell_type": "markdown",
   "metadata": {},
   "source": [
    "# 8. Matplotlib & SciPy"
   ]
  },
  {
   "cell_type": "markdown",
   "metadata": {},
   "source": [
    "## 8.1 Basiswissen zu Matplotlib"
   ]
  },
  {
   "cell_type": "code",
   "execution_count": null,
   "metadata": {},
   "outputs": [],
   "source": [
    "import numpy as np\n",
    "\n",
    "import matplotlib as mpl\n",
    "import matplotlib.pyplot as plt"
   ]
  },
  {
   "cell_type": "code",
   "execution_count": null,
   "metadata": {},
   "outputs": [],
   "source": [
    "x = np.linspace(-np.pi,3*np.pi,100)\n",
    "y1 = np.sin(x)\n",
    "y2 = np.cos(x)"
   ]
  },
  {
   "cell_type": "code",
   "execution_count": null,
   "metadata": {
    "scrolled": false
   },
   "outputs": [],
   "source": [
    "print(\"x=\",x,\"y1=\",y1,\"y2=\",y2)"
   ]
  },
  {
   "cell_type": "code",
   "execution_count": null,
   "metadata": {
    "scrolled": true
   },
   "outputs": [],
   "source": [
    "plt.plot(x,y1)\n",
    "plt.plot(x,y2)\n",
    "plt.show()"
   ]
  },
  {
   "cell_type": "code",
   "execution_count": null,
   "metadata": {},
   "outputs": [],
   "source": [
    "plt.style.use(\"classic\")\n",
    "plt.plot(x,y1)\n",
    "plt.plot(x,y2)\n",
    "plt.show()"
   ]
  },
  {
   "cell_type": "code",
   "execution_count": null,
   "metadata": {},
   "outputs": [],
   "source": [
    "print(plt.style.available)"
   ]
  },
  {
   "cell_type": "code",
   "execution_count": null,
   "metadata": {},
   "outputs": [],
   "source": [
    "plt.style.use(\"seaborn\")\n",
    "plt.plot(x,y1)\n",
    "plt.plot(x,y2)\n",
    "plt.show()"
   ]
  },
  {
   "cell_type": "code",
   "execution_count": null,
   "metadata": {},
   "outputs": [],
   "source": [
    "plt.style.use(\"classic\")\n",
    "fig = plt.figure()\n",
    "plt.plot(x,y1, \"+\")\n",
    "plt.plot(x,y2, \"-\")\n",
    "plt.show()"
   ]
  },
  {
   "cell_type": "code",
   "execution_count": null,
   "metadata": {},
   "outputs": [],
   "source": [
    "fig.savefig(\"mein_Bild.png\")"
   ]
  },
  {
   "cell_type": "code",
   "execution_count": null,
   "metadata": {},
   "outputs": [],
   "source": [
    "import IPython.display\n",
    "IPython.display.Image(\"mein_Bild.png\")"
   ]
  },
  {
   "cell_type": "code",
   "execution_count": null,
   "metadata": {},
   "outputs": [],
   "source": [
    "fig.canvas.get_supported_filetypes()"
   ]
  },
  {
   "cell_type": "code",
   "execution_count": null,
   "metadata": {},
   "outputs": [],
   "source": [
    "plt.style.use(\"seaborn-whitegrid\")\n",
    "fig = plt.figure()\n",
    "ax = plt.axes()\n",
    "ax.plot(x,y1)\n",
    "ax.plot(x,y2)"
   ]
  },
  {
   "cell_type": "code",
   "execution_count": null,
   "metadata": {},
   "outputs": [],
   "source": [
    "plt.style.use(\"seaborn-whitegrid\")\n",
    "fig = plt.figure()\n",
    "ax = plt.axes()\n",
    "ax.plot(x,y1)\n",
    "ax.plot(x,y2)\n",
    "ax.annotate(\"Ursprung\", xy=(0,0), xytext=(0.7,-0.75), \n",
    "            arrowprops = dict(connectionstyle=\"angle3\",arrowstyle=\"->\"))"
   ]
  },
  {
   "cell_type": "code",
   "execution_count": null,
   "metadata": {},
   "outputs": [],
   "source": [
    "y3 = x**2/90\n",
    "plt.plot(x,y1, linestyle = \"solid\", color = \"blue\")\n",
    "plt.plot(x,y2, linestyle = \"dotted\", color = \"green\")\n",
    "plt.plot(x,y3, linestyle = \"dashed\", color = \"red\")"
   ]
  },
  {
   "cell_type": "code",
   "execution_count": null,
   "metadata": {},
   "outputs": [],
   "source": [
    "plt.plot(x,y1, linestyle = \"solid\", color = \"blue\")\n",
    "plt.plot(x,y2, linestyle = \"dotted\", color = \"green\")\n",
    "plt.plot(x,y3, linestyle = \"dashed\", color = \"red\")\n",
    "plt.xlim(-2,9)\n",
    "plt.ylim(-1.1,1.1)"
   ]
  },
  {
   "cell_type": "code",
   "execution_count": null,
   "metadata": {},
   "outputs": [],
   "source": [
    "plt.plot(x,y1, linestyle = \"solid\", color = \"blue\",label = \"sin(x)\")\n",
    "plt.plot(x,y2, linestyle = \"dotted\", color = \"green\",label = \"cos(x)\")\n",
    "plt.plot(x,y3, linestyle = \"dashed\", color = \"red\",label = \"Parabel\")\n",
    "plt.title(\"Sinus, Kosinus und Parabel\")\n",
    "plt.xlabel(\"x\")\n",
    "plt.legend()"
   ]
  },
  {
   "cell_type": "code",
   "execution_count": null,
   "metadata": {},
   "outputs": [],
   "source": [
    "plt.legend?"
   ]
  },
  {
   "cell_type": "code",
   "execution_count": null,
   "metadata": {},
   "outputs": [],
   "source": [
    "plt.plot(x,y1, linestyle = \"solid\", color = \"blue\",label = \"sin(x)\")\n",
    "plt.plot(x,y2, linestyle = \"dotted\", color = \"green\",label = \"cos(x)\")\n",
    "plt.plot(x,y3, linestyle = \"dashed\", color = \"red\",label = \"Parabel\")\n",
    "plt.title(\"Sinus, Kosinus und Parabel\")\n",
    "plt.xlabel(\"x\")\n",
    "plt.legend(loc = \"lower right\")"
   ]
  },
  {
   "cell_type": "code",
   "execution_count": null,
   "metadata": {},
   "outputs": [],
   "source": [
    "plt.scatter(x,y1)"
   ]
  },
  {
   "cell_type": "code",
   "execution_count": null,
   "metadata": {},
   "outputs": [],
   "source": [
    "rnd = np.random.RandomState(42)\n",
    "x = rnd.randn(75)\n",
    "y = rnd.randn(75)\n",
    "colors = rnd.rand(75)\n",
    "sizes = rnd.rand(75)*1500\n",
    "plt.scatter(x, y, c = colors, s = sizes, alpha = 0.4, cmap = \"inferno\")\n",
    "plt.colorbar()\n",
    "\n",
    "# colormaps: e.g. 'viridis', 'plasma', 'inferno', 'magma', 'cividis'"
   ]
  },
  {
   "cell_type": "code",
   "execution_count": null,
   "metadata": {},
   "outputs": [],
   "source": [
    "rnd.randn(10)"
   ]
  },
  {
   "cell_type": "code",
   "execution_count": null,
   "metadata": {},
   "outputs": [],
   "source": [
    "liste = rnd.randn(10000)\n",
    "plt.hist(liste)"
   ]
  },
  {
   "cell_type": "code",
   "execution_count": null,
   "metadata": {},
   "outputs": [],
   "source": [
    "plt.hist(liste, bins = 50)"
   ]
  },
  {
   "cell_type": "code",
   "execution_count": null,
   "metadata": {},
   "outputs": [],
   "source": [
    "liste1 = np.random.normal(4,2, 1000)\n",
    "liste2 = np.random.normal(-1,1, 1000)\n",
    "plt.hist(liste1, bins = 35, alpha = 0.25, color = \"blue\")\n",
    "plt.hist(liste2, bins = 25, alpha = 0.25, color = \"red\")"
   ]
  },
  {
   "cell_type": "code",
   "execution_count": null,
   "metadata": {},
   "outputs": [],
   "source": [
    "from mpl_toolkits import mplot3d"
   ]
  },
  {
   "cell_type": "code",
   "execution_count": null,
   "metadata": {},
   "outputs": [],
   "source": [
    "x = np.linspace(0,20, 1000)\n",
    "y = np.sin(x)\n",
    "z = np.cos(x)\n",
    "fig = plt.figure()\n",
    "ax = plt.axes(projection = \"3d\")\n",
    "ax.plot3D(x,y,z)"
   ]
  },
  {
   "cell_type": "code",
   "execution_count": null,
   "metadata": {},
   "outputs": [],
   "source": [
    "fig = plt.figure()\n",
    "ax = plt.axes(projection = \"3d\")\n",
    "ax.plot3D(y,z,x)"
   ]
  },
  {
   "cell_type": "code",
   "execution_count": null,
   "metadata": {},
   "outputs": [],
   "source": [
    "fig = plt.figure()\n",
    "ax = plt.axes(projection = \"3d\")\n",
    "ax.plot3D(y,z,x)\n",
    "xneu = np.random.random(100)*20\n",
    "yneu = np.sin(xneu) + np.random.randn(100) * 0.15\n",
    "zneu = np.cos(xneu) + np.random.randn(100) * 0.15\n",
    "ax.scatter3D(yneu,zneu,xneu,c=xneu,cmap=\"magma\")"
   ]
  },
  {
   "cell_type": "code",
   "execution_count": null,
   "metadata": {},
   "outputs": [],
   "source": [
    "def f(x,y):\n",
    "    return np.sin(np.sqrt(x**2+y**2))+0.3\n",
    "\n",
    "x = np.linspace(-4,4,150)\n",
    "y = np.linspace(-4,4,150)\n",
    "X,Y = np.meshgrid(x,y)\n",
    "Z = f(X,Y)\n",
    "\n",
    "fig = plt.figure()\n",
    "ax = fig.add_subplot(111, projection='3d')\n",
    "ax.plot_surface(X, Y, Z, cmap='viridis')\n",
    "\n",
    "plt.show()"
   ]
  },
  {
   "cell_type": "code",
   "execution_count": null,
   "metadata": {},
   "outputs": [],
   "source": [
    "ax.view_init(70,75)\n",
    "fig"
   ]
  },
  {
   "cell_type": "code",
   "execution_count": null,
   "metadata": {},
   "outputs": [],
   "source": [
    "ax.view_init(100,1)\n",
    "fig"
   ]
  },
  {
   "cell_type": "code",
   "execution_count": null,
   "metadata": {},
   "outputs": [],
   "source": [
    "ax.view_init(7,75)\n",
    "fig"
   ]
  },
  {
   "cell_type": "code",
   "execution_count": null,
   "metadata": {},
   "outputs": [],
   "source": [
    "fig = plt.figure()\n",
    "ax = plt.axes(projection = \"3d\")\n",
    "ax.plot_wireframe(X,Y,Z,rstride=10, cstride=10)"
   ]
  },
  {
   "cell_type": "code",
   "execution_count": null,
   "metadata": {},
   "outputs": [],
   "source": [
    "ax.view_init(70,75)\n",
    "fig"
   ]
  },
  {
   "cell_type": "code",
   "execution_count": null,
   "metadata": {},
   "outputs": [],
   "source": [
    "fig = plt.figure()\n",
    "ax = plt.axes(projection = \"3d\")\n",
    "ax.plot_surface(X,Y,Z,rstride=10, cstride=10, cmap=\"binary\")"
   ]
  },
  {
   "cell_type": "markdown",
   "metadata": {},
   "source": [
    "## 8.2 SciPy (& Matplotlib)"
   ]
  },
  {
   "cell_type": "code",
   "execution_count": null,
   "metadata": {},
   "outputs": [],
   "source": [
    "import scipy.interpolate as si"
   ]
  },
  {
   "cell_type": "code",
   "execution_count": null,
   "metadata": {},
   "outputs": [],
   "source": [
    "si.splev?"
   ]
  },
  {
   "cell_type": "code",
   "execution_count": null,
   "metadata": {},
   "outputs": [],
   "source": [
    "help(si.splrep)"
   ]
  },
  {
   "cell_type": "code",
   "execution_count": null,
   "metadata": {},
   "outputs": [],
   "source": [
    "x = np.linspace(0, 10, 6)\n",
    "y = np.cos(x)\n",
    "plt.plot(x, y, \"o\", color=\"red\", label=\"Einzelpunkte\")\n",
    "plt.xlim(-1,14)\n",
    "plt.ylim(-1.1,1.1)\n",
    "plt.legend()\n",
    "plt.show()"
   ]
  },
  {
   "cell_type": "code",
   "execution_count": null,
   "metadata": {},
   "outputs": [],
   "source": [
    "x = np.linspace(0, 10, 6)\n",
    "y = np.cos(x)\n",
    "\n",
    "x1 = np.linspace(0, 10, 200)\n",
    "y1 = np.cos(x1)\n",
    "plt.plot(x, y, \"o\", color=\"red\", label=\"Einzelpunkte\")\n",
    "plt.plot(x1, y1, color = \"blue\", label=\"Originalfunktion\")\n",
    "plt.xlim(-1,14)\n",
    "plt.ylim(-1.1,1.1)\n",
    "plt.legend()\n",
    "plt.show()"
   ]
  },
  {
   "cell_type": "code",
   "execution_count": null,
   "metadata": {},
   "outputs": [],
   "source": [
    "x = np.linspace(0, 10, 6)\n",
    "y = np.cos(x)\n",
    "spl = si.splrep(x, y)\n",
    "x1 = np.linspace(0, 10, 200)\n",
    "y1 = si.splev(x1, spl)\n",
    "plt.plot(x, y, \"o\", color=\"red\", label=\"Einzelpunkte\")\n",
    "plt.plot(x1, y1, color = \"green\", label=\"BSplines Interpolation\")\n",
    "plt.xlim(-1,14)\n",
    "plt.ylim(-1.1,1.1)\n",
    "plt.legend()\n",
    "plt.show()"
   ]
  },
  {
   "cell_type": "code",
   "execution_count": null,
   "metadata": {},
   "outputs": [],
   "source": [
    "x = np.linspace(0, 10, 6)\n",
    "y = np.cos(x)\n",
    "spl = si.splrep(x, y)\n",
    "x1 = np.linspace(0, 10, 200)\n",
    "y1 = np.cos(x1)\n",
    "y2 = si.splev(x1, spl)\n",
    "plt.plot(x, y, \"o\", color=\"red\", label=\"Einzelpunkte\")\n",
    "plt.plot(x1, y1, color = \"blue\", label=\"Originalfunktion\")\n",
    "plt.plot(x1, y2, color = \"green\", label=\"BSplines Interpolation\")\n",
    "plt.xlim(-1,14)\n",
    "plt.ylim(-1.1,1.1)\n",
    "plt.legend()\n",
    "plt.show()"
   ]
  },
  {
   "cell_type": "code",
   "execution_count": null,
   "metadata": {},
   "outputs": [],
   "source": [
    "help(si.lagrange)"
   ]
  },
  {
   "cell_type": "code",
   "execution_count": null,
   "metadata": {},
   "outputs": [],
   "source": [
    "x = np.linspace(0, 10, 6)\n",
    "y = np.cos(x)\n",
    "lagrange_polynom = si.lagrange(x,y)\n",
    "x1 = np.linspace(0, 10, 200)\n",
    "y3 = lagrange_polynom(x1)\n",
    "plt.plot(x, y, \"o\", color=\"red\", label=\"Einzelpunkte\")\n",
    "plt.plot(x1, y1, color = \"blue\", label=\"Originalfunktion\")\n",
    "plt.plot(x1, y3, color = \"green\", label=\"Lagrange Interpolation\")\n",
    "plt.xlim(-1,14)\n",
    "plt.ylim(-1.7,1.3)\n",
    "plt.legend()\n",
    "plt.show()"
   ]
  },
  {
   "cell_type": "code",
   "execution_count": null,
   "metadata": {},
   "outputs": [],
   "source": [
    "from scipy.optimize import fsolve\n",
    "\n",
    "def nullstellensuche(x):\n",
    "  return x + 2 * np.cos(x)\n",
    "\n",
    "nullstelle = fsolve(nullstellensuche, 0)\n",
    "print(\"Nullstelle =\", nullstelle[0])"
   ]
  }
 ],
 "metadata": {
  "kernelspec": {
   "display_name": "Python 3",
   "language": "python",
   "name": "python3"
  },
  "language_info": {
   "codemirror_mode": {
    "name": "ipython",
    "version": 3
   },
   "file_extension": ".py",
   "mimetype": "text/x-python",
   "name": "python",
   "nbconvert_exporter": "python",
   "pygments_lexer": "ipython3",
   "version": "3.8.3"
  }
 },
 "nbformat": 4,
 "nbformat_minor": 4
}
